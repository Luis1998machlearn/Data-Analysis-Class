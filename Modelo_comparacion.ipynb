{
 "cells": [
  {
   "cell_type": "code",
   "execution_count": 9,
   "metadata": {},
   "outputs": [],
   "source": [
    "import pandas as pd\n",
    "import fuzzy_pandas as fpd #algoritmos para hacer similitudes "
   ]
  },
  {
   "cell_type": "code",
   "execution_count": 10,
   "metadata": {},
   "outputs": [],
   "source": [
    "df1 = pd.DataFrame({'Fruta_1':['Manzana', 'Banano', 'Naranja', 'Fresa']})\n",
    "df2 = pd.DataFrame({'Fruta_2':['Mananza', 'Mango', 'Naraj', 'Fres', 'Bannona', 'Durazno']})\n",
    "\n",
    "#df1 = pd.read_csv(\"data1.csv\")\n",
    "#df2 = pd.read_csv(\"data2.csv\")"
   ]
  },
  {
   "cell_type": "code",
   "execution_count": 23,
   "metadata": {},
   "outputs": [],
   "source": [
    "matches = fpd.fuzzy_merge(df1, df2,\n",
    "                          left_on=['Fruta_1'],\n",
    "                          right_on=['Fruta_2'],\n",
    "                          ignore_case=True,\n",
    "                          keep='match',\n",
    "                          method='levenshtein',\n",
    "                          threshold=0.7,\n",
    "                          join='inner')\n",
    "\n",
    "#ignore_case: ignora mayúsculas y minúsculas\n",
    "#ignore_nonalpha: ignorar carácteres no alfanumerico %$#&/\n",
    "#ignore_nonlatin: tíldes\n",
    "#ignore_order_words: ignora el orden de las palabras\n",
    "#ignore_order_letters: ignora el orden de las palabras\n",
    "#method: exact, levenshtein, jaro, metaphone, bilenko\n",
    "#join : { 'inner', 'left-outer', 'right-outer', 'full-outer' }"
   ]
  },
  {
   "cell_type": "code",
   "execution_count": 24,
   "metadata": {},
   "outputs": [
    {
     "name": "stdout",
     "output_type": "stream",
     "text": [
      "   Fruta_1  Fruta_2\n",
      "0  Manzana  Mananza\n",
      "1   Banano  Mananza\n",
      "2   Banano    Mango\n",
      "3   Banano  Bannona\n",
      "4  Naranja  Mananza\n",
      "5  Naranja    Naraj\n",
      "6    Fresa     Fres\n"
     ]
    }
   ],
   "source": [
    "print(matches)"
   ]
  },
  {
   "cell_type": "code",
   "execution_count": null,
   "metadata": {},
   "outputs": [],
   "source": []
  }
 ],
 "metadata": {
  "kernelspec": {
   "display_name": "Python 3",
   "language": "python",
   "name": "python3"
  },
  "language_info": {
   "codemirror_mode": {
    "name": "ipython",
    "version": 3
   },
   "file_extension": ".py",
   "mimetype": "text/x-python",
   "name": "python",
   "nbconvert_exporter": "python",
   "pygments_lexer": "ipython3",
   "version": "3.8.8"
  }
 },
 "nbformat": 4,
 "nbformat_minor": 4
}
